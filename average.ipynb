{
  "nbformat": 4,
  "nbformat_minor": 0,
  "metadata": {
    "colab": {
      "name": "average.ipynb",
      "provenance": [],
      "authorship_tag": "ABX9TyMGcrCFjsy55BJGp2mMg8+n",
      "include_colab_link": true
    },
    "kernelspec": {
      "name": "python3",
      "display_name": "Python 3"
    },
    "language_info": {
      "name": "python"
    }
  },
  "cells": [
    {
      "cell_type": "markdown",
      "metadata": {
        "id": "view-in-github",
        "colab_type": "text"
      },
      "source": [
        "<a href=\"https://colab.research.google.com/github/divinehappi/My_Python_Scripts/blob/main/average.ipynb\" target=\"_parent\"><img src=\"https://colab.research.google.com/assets/colab-badge.svg\" alt=\"Open In Colab\"/></a>"
      ]
    },
    {
      "cell_type": "code",
      "execution_count": null,
      "metadata": {
        "colab": {
          "base_uri": "https://localhost:8080/"
        },
        "id": "ir1b5YPG4-us",
        "outputId": "5bf2e7e6-244a-412f-880e-3a1c5dd72554"
      },
      "outputs": [
        {
          "output_type": "stream",
          "name": "stdout",
          "text": [
            "Enter a number: 5\n",
            "5.0\n",
            "5.0 1 5.0\n",
            "Enter a number: 6\n",
            "6.0\n",
            "11.0 2 5.5\n",
            "Enter a number: ghfgfhfh\n",
            "Hey! I asked you for a number !!!!\n",
            "Enter a number: done\n",
            "ALL DONE\n"
          ]
        }
      ],
      "source": [
        "num = 0\n",
        "tot = 0.0\n",
        "while True:\n",
        "  try:\n",
        "    sval = input('Enter a number: ')\n",
        "    if sval == 'done':\n",
        "      break\n",
        "    fval = float(sval)\n",
        "    print(fval)\n",
        "    num = num + 1\n",
        "    tot = tot + fval\n",
        "    print(tot,num,tot/num)\n",
        "  except:\n",
        "    print(\"Hey! I asked you for a number !!!!\") \n",
        "print('ALL DONE')     "
      ]
    },
    {
      "cell_type": "code",
      "source": [
        "num = 0\n",
        "tot = 0.0\n",
        "\n",
        "my_list = []\n",
        "while True:\n",
        "\n",
        "\n",
        "  \n",
        "  \n",
        "  sval = input('Enter a number: ')\n",
        "  my_list.append(sval)\n",
        "  if sval == 'done':\n",
        "    break\n",
        "  try:   \n",
        "    fval = float(sval)\n",
        "  except:  \n",
        "    print(\"Hey! I asked you for a number !!!!\") \n",
        "    continue\n",
        "  print(fval)\n",
        "  num = num + 1\n",
        "  tot = tot + fval\n",
        "  print(\"The Average of\",my_list, \"is :\",tot/num)\n",
        "   \n",
        "    \n",
        "print('ALL DONE')     "
      ],
      "metadata": {
        "colab": {
          "base_uri": "https://localhost:8080/"
        },
        "id": "9H1AXIwz6Lhh",
        "outputId": "be59dfba-6628-405e-8018-5ea3b0bdd462"
      },
      "execution_count": null,
      "outputs": [
        {
          "output_type": "stream",
          "name": "stdout",
          "text": [
            "Enter a number: 4\n",
            "4.0\n",
            "The Average of ['4'] is : 4.0\n",
            "Enter a number: 5\n",
            "5.0\n",
            "The Average of ['4', '5'] is : 4.5\n",
            "Enter a number: done\n",
            "ALL DONE\n"
          ]
        }
      ]
    },
    {
      "cell_type": "code",
      "source": [
        "54for person in [\"Happi\", \"Deukam\", \"Tchamna\"]:\n",
        "\n",
        "  if person == \"Happi\":\n",
        "    print(person, \"is So Smart\")\n",
        "  else:\n",
        "    print(person, \"is So Lovely\")\n",
        "\n",
        "\n"
      ],
      "metadata": {
        "colab": {
          "base_uri": "https://localhost:8080/"
        },
        "id": "PZVPVsth_aSH",
        "outputId": "301a63dc-e984-4674-9d85-c2609f36d133"
      },
      "execution_count": null,
      "outputs": [
        {
          "output_type": "stream",
          "name": "stdout",
          "text": [
            "Happi is So Smart\n",
            "Deukam is So Lovely\n",
            "Tchamna is So Lovely\n"
          ]
        }
      ]
    },
    {
      "cell_type": "code",
      "source": [
        ""
      ],
      "metadata": {
        "id": "KzVObg49C8hS"
      },
      "execution_count": null,
      "outputs": []
    }
  ]
}