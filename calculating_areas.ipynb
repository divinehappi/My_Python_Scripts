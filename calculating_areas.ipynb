{
  "nbformat": 4,
  "nbformat_minor": 0,
  "metadata": {
    "colab": {
      "name": "calculating_areas.ipynb",
      "provenance": [],
      "collapsed_sections": [],
      "authorship_tag": "ABX9TyMiGBQ08q16p1NWsPX3sN2i",
      "include_colab_link": true
    },
    "kernelspec": {
      "name": "python3",
      "display_name": "Python 3"
    },
    "language_info": {
      "name": "python"
    }
  },
  "cells": [
    {
      "cell_type": "markdown",
      "metadata": {
        "id": "view-in-github",
        "colab_type": "text"
      },
      "source": [
        "<a href=\"https://colab.research.google.com/github/divinehappi/My_Python_Scripts/blob/main/calculating_areas.ipynb\" target=\"_parent\"><img src=\"https://colab.research.google.com/assets/colab-badge.svg\" alt=\"Open In Colab\"/></a>"
      ]
    },
    {
      "cell_type": "markdown",
      "source": [
        "# Area of a rectangle"
      ],
      "metadata": {
        "id": "wrP27i449U7d"
      }
    },
    {
      "cell_type": "code",
      "execution_count": null,
      "metadata": {
        "colab": {
          "base_uri": "https://localhost:8080/"
        },
        "id": "Xm8lN5Wen3vO",
        "outputId": "ce83f46e-e985-4f0a-d341-34bfb83bd3c6"
      },
      "outputs": [
        {
          "output_type": "stream",
          "name": "stdout",
          "text": [
            "Give me the lenght of a rectangle:4\n",
            "Give me the width of a rectangle:5\n",
            "The area of the rectangle is:  20.0\n"
          ]
        }
      ],
      "source": [
        "x = float(input(\"Give me the lenght of a rectangle:\"))\n",
        "x1 = float(input(\"Give me the width of a rectangle:\"))\n",
        "a = x*x1\n",
        "print(\"The area of the rectangle is: \", a)"
      ]
    },
    {
      "cell_type": "code",
      "source": [
        "def area_of_a_rect(x,x1):\n",
        "  #x = float(input(\"Give me the lenght of a rectangle:\"))\n",
        "  #x1 = float(input(\"Give me the width of a rectangle:\"))\n",
        "  a = x*x1\n",
        "  return a\n",
        "  # print(\"The area of the rectangle is: \", a)"
      ],
      "metadata": {
        "id": "2RyjHwySpFkF"
      },
      "execution_count": null,
      "outputs": []
    },
    {
      "cell_type": "code",
      "source": [
        "area_of_a_rect(3,4)"
      ],
      "metadata": {
        "colab": {
          "base_uri": "https://localhost:8080/"
        },
        "id": "pNHS3v3vp9QJ",
        "outputId": "a105dce2-0ccf-4583-df57-7553425d75b8"
      },
      "execution_count": null,
      "outputs": [
        {
          "output_type": "stream",
          "name": "stdout",
          "text": [
            "The area of the rectangle is:  12\n"
          ]
        }
      ]
    },
    {
      "cell_type": "markdown",
      "source": [
        "# Area of triangle"
      ],
      "metadata": {
        "id": "fflYp5079rmL"
      }
    },
    {
      "cell_type": "code",
      "source": [
        "b = float(input(\"What is the base of the triangle?: \"))\n",
        "h = float(input(\"What is the height of the triangle?: \"))\n",
        "a = (b*h)/2\n",
        "print(\"The area of the triangle is: \", a)"
      ],
      "metadata": {
        "id": "cC6SIaGRqARA",
        "colab": {
          "base_uri": "https://localhost:8080/"
        },
        "outputId": "84632c26-edd0-49ff-fa50-880d9c6b45d2"
      },
      "execution_count": null,
      "outputs": [
        {
          "output_type": "stream",
          "name": "stdout",
          "text": [
            "What is the base of the triangle?: 5\n",
            "What is the height of the triangle?: 4\n",
            "The area of the triangle is:  10.0\n"
          ]
        }
      ]
    },
    {
      "cell_type": "code",
      "source": [
        "def area_of_a_triangle(b=6,h=4):\n",
        "  a = (b*h)/2\n",
        "  # print(\"The area of the triangle is: \", a)\n",
        "  return a\n",
        "area_of_a_triangle()"
      ],
      "metadata": {
        "colab": {
          "base_uri": "https://localhost:8080/"
        },
        "id": "vO3jgi1t-r2Z",
        "outputId": "76c704e2-7ee4-42a2-f1e7-eb2c1080e9db"
      },
      "execution_count": null,
      "outputs": [
        {
          "output_type": "execute_result",
          "data": {
            "text/plain": [
              "12.0"
            ]
          },
          "metadata": {},
          "execution_count": 25
        }
      ]
    },
    {
      "cell_type": "markdown",
      "source": [
        "# Area of a circle"
      ],
      "metadata": {
        "id": "rbuAyyXv_ivg"
      }
    },
    {
      "cell_type": "code",
      "source": [
        "r = float(input(\"Give me the radius of a circle: \"))\n",
        "a = 22/7 *r**2\n",
        "a = round(a,3)\n",
        "print(\"The area of the circle is: \", a)"
      ],
      "metadata": {
        "colab": {
          "base_uri": "https://localhost:8080/"
        },
        "id": "cy5ajOwD_VS5",
        "outputId": "6b7e24f0-8abb-4d8f-8651-bf3bc5a02c14"
      },
      "execution_count": null,
      "outputs": [
        {
          "output_type": "stream",
          "name": "stdout",
          "text": [
            "Give me the radius of a circle: 4\n",
            "The area of the circle is:  50.286\n"
          ]
        }
      ]
    },
    {
      "cell_type": "code",
      "source": [
        "def area_of_a_cicle(r):\n",
        "  a = 22/7*r**2\n",
        "  a = round(a,3)\n",
        "  return a"
      ],
      "metadata": {
        "id": "I4U5fhY8Agzz"
      },
      "execution_count": null,
      "outputs": []
    },
    {
      "cell_type": "code",
      "source": [
        "area_of_a_cicle(3)"
      ],
      "metadata": {
        "colab": {
          "base_uri": "https://localhost:8080/"
        },
        "id": "qvCnHpeyDu70",
        "outputId": "5434feab-bb4a-4c9b-9f2c-9c9108ad36d0"
      },
      "execution_count": null,
      "outputs": [
        {
          "output_type": "execute_result",
          "data": {
            "text/plain": [
              "28.286"
            ]
          },
          "metadata": {},
          "execution_count": 12
        }
      ]
    },
    {
      "cell_type": "code",
      "source": [
        "area_of_a_triangle(2,4)"
      ],
      "metadata": {
        "colab": {
          "base_uri": "https://localhost:8080/"
        },
        "id": "MpFNeDMcDzl8",
        "outputId": "fba3fe0f-df97-4590-b2a4-f1e813572dfb"
      },
      "execution_count": null,
      "outputs": [
        {
          "output_type": "stream",
          "name": "stdout",
          "text": [
            "The area of the triangle is:  4.0\n"
          ]
        }
      ]
    },
    {
      "cell_type": "code",
      "source": [
        "area_of_a_rect(2,4)"
      ],
      "metadata": {
        "colab": {
          "base_uri": "https://localhost:8080/"
        },
        "id": "mM-nBZqUERJj",
        "outputId": "11057975-a9f1-4829-bb39-96bd0545cfc2"
      },
      "execution_count": null,
      "outputs": [
        {
          "output_type": "stream",
          "name": "stdout",
          "text": [
            "The area of the rectangle is:  8\n"
          ]
        }
      ]
    },
    {
      "cell_type": "code",
      "source": [
        "c = [happi for happi in np.around(np.arange(0,11,0.1),1)] \n",
        "c"
      ],
      "metadata": {
        "colab": {
          "base_uri": "https://localhost:8080/"
        },
        "id": "gYI4bvRLIpDu",
        "outputId": "988805e3-fe3d-4636-cadc-95001918439c"
      },
      "execution_count": null,
      "outputs": [
        {
          "output_type": "execute_result",
          "data": {
            "text/plain": [
              "[0.0,\n",
              " 0.1,\n",
              " 0.2,\n",
              " 0.3,\n",
              " 0.4,\n",
              " 0.5,\n",
              " 0.6,\n",
              " 0.7,\n",
              " 0.8,\n",
              " 0.9,\n",
              " 1.0,\n",
              " 1.1,\n",
              " 1.2,\n",
              " 1.3,\n",
              " 1.4,\n",
              " 1.5,\n",
              " 1.6,\n",
              " 1.7,\n",
              " 1.8,\n",
              " 1.9,\n",
              " 2.0,\n",
              " 2.1,\n",
              " 2.2,\n",
              " 2.3,\n",
              " 2.4,\n",
              " 2.5,\n",
              " 2.6,\n",
              " 2.7,\n",
              " 2.8,\n",
              " 2.9,\n",
              " 3.0,\n",
              " 3.1,\n",
              " 3.2,\n",
              " 3.3,\n",
              " 3.4,\n",
              " 3.5,\n",
              " 3.6,\n",
              " 3.7,\n",
              " 3.8,\n",
              " 3.9,\n",
              " 4.0,\n",
              " 4.1,\n",
              " 4.2,\n",
              " 4.3,\n",
              " 4.4,\n",
              " 4.5,\n",
              " 4.6,\n",
              " 4.7,\n",
              " 4.8,\n",
              " 4.9,\n",
              " 5.0,\n",
              " 5.1,\n",
              " 5.2,\n",
              " 5.3,\n",
              " 5.4,\n",
              " 5.5,\n",
              " 5.6,\n",
              " 5.7,\n",
              " 5.8,\n",
              " 5.9,\n",
              " 6.0,\n",
              " 6.1,\n",
              " 6.2,\n",
              " 6.3,\n",
              " 6.4,\n",
              " 6.5,\n",
              " 6.6,\n",
              " 6.7,\n",
              " 6.8,\n",
              " 6.9,\n",
              " 7.0,\n",
              " 7.1,\n",
              " 7.2,\n",
              " 7.3,\n",
              " 7.4,\n",
              " 7.5,\n",
              " 7.6,\n",
              " 7.7,\n",
              " 7.8,\n",
              " 7.9,\n",
              " 8.0,\n",
              " 8.1,\n",
              " 8.2,\n",
              " 8.3,\n",
              " 8.4,\n",
              " 8.5,\n",
              " 8.6,\n",
              " 8.7,\n",
              " 8.8,\n",
              " 8.9,\n",
              " 9.0,\n",
              " 9.1,\n",
              " 9.2,\n",
              " 9.3,\n",
              " 9.4,\n",
              " 9.5,\n",
              " 9.6,\n",
              " 9.7,\n",
              " 9.8,\n",
              " 9.9,\n",
              " 10.0,\n",
              " 10.1,\n",
              " 10.2,\n",
              " 10.3,\n",
              " 10.4,\n",
              " 10.5,\n",
              " 10.6,\n",
              " 10.7,\n",
              " 10.8,\n",
              " 10.9]"
            ]
          },
          "metadata": {},
          "execution_count": 54
        }
      ]
    },
    {
      "cell_type": "code",
      "source": [
        "import numpy as np\n",
        "np.arange(0,11,0.1)\n"
      ],
      "metadata": {
        "colab": {
          "base_uri": "https://localhost:8080/"
        },
        "id": "SX630qwdLBIh",
        "outputId": "3960e5b4-9154-4cd6-cacd-245ec0b8f072"
      },
      "execution_count": null,
      "outputs": [
        {
          "output_type": "execute_result",
          "data": {
            "text/plain": [
              "array([ 0. ,  0.1,  0.2,  0.3,  0.4,  0.5,  0.6,  0.7,  0.8,  0.9,  1. ,\n",
              "        1.1,  1.2,  1.3,  1.4,  1.5,  1.6,  1.7,  1.8,  1.9,  2. ,  2.1,\n",
              "        2.2,  2.3,  2.4,  2.5,  2.6,  2.7,  2.8,  2.9,  3. ,  3.1,  3.2,\n",
              "        3.3,  3.4,  3.5,  3.6,  3.7,  3.8,  3.9,  4. ,  4.1,  4.2,  4.3,\n",
              "        4.4,  4.5,  4.6,  4.7,  4.8,  4.9,  5. ,  5.1,  5.2,  5.3,  5.4,\n",
              "        5.5,  5.6,  5.7,  5.8,  5.9,  6. ,  6.1,  6.2,  6.3,  6.4,  6.5,\n",
              "        6.6,  6.7,  6.8,  6.9,  7. ,  7.1,  7.2,  7.3,  7.4,  7.5,  7.6,\n",
              "        7.7,  7.8,  7.9,  8. ,  8.1,  8.2,  8.3,  8.4,  8.5,  8.6,  8.7,\n",
              "        8.8,  8.9,  9. ,  9.1,  9.2,  9.3,  9.4,  9.5,  9.6,  9.7,  9.8,\n",
              "        9.9, 10. , 10.1, 10.2, 10.3, 10.4, 10.5, 10.6, 10.7, 10.8, 10.9])"
            ]
          },
          "metadata": {},
          "execution_count": 50
        }
      ]
    },
    {
      "cell_type": "code",
      "source": [
        "a = 5\n",
        "b = 2\n",
        "c = [happi for happi in np.arange(0,11,0.1)] \n",
        "\n",
        "for i in c:\n",
        "\n",
        "  if area_of_a_rect(a,b) == area_of_a_triangle(a,b+i):\n",
        "   \n",
        "    print(\"It's a Tie :(. The tie happens at: \",i)   "
      ],
      "metadata": {
        "colab": {
          "base_uri": "https://localhost:8080/"
        },
        "id": "dBjf8-dHEXcQ",
        "outputId": "cc624d9f-0208-4a94-c2e3-1d5cf3525c01"
      },
      "execution_count": null,
      "outputs": [
        {
          "output_type": "stream",
          "name": "stdout",
          "text": [
            "It's a Tie :(. The tie happens at:  2.0\n"
          ]
        }
      ]
    },
    {
      "cell_type": "code",
      "source": [
        "7/+4"
      ],
      "metadata": {
        "colab": {
          "base_uri": "https://localhost:8080/"
        },
        "id": "jK0S6jyNEs3B",
        "outputId": "3440cfe1-2a10-44fa-9d18-93f11c51138b"
      },
      "execution_count": null,
      "outputs": [
        {
          "output_type": "execute_result",
          "data": {
            "text/plain": [
              "1.75"
            ]
          },
          "metadata": {},
          "execution_count": 63
        }
      ]
    },
    {
      "cell_type": "code",
      "source": [
        "def project_to_distance(point_x point_y distance):\n",
        "  dist_to_origin = (pointx ** 2 + pointy ** 2) ** 0.5\n",
        "     scale == distance / dist_to_origin\n",
        "    print point_x * scale, point_y * scale\n",
        "\n",
        "project-to-distance(2, 7, 4)\n",
        "    "
      ],
      "metadata": {
        "colab": {
          "base_uri": "https://localhost:8080/",
          "height": 134
        },
        "id": "Nr3QHAmkURGH",
        "outputId": "f27a5e90-fe89-4d3e-e71f-47847e883a36"
      },
      "execution_count": null,
      "outputs": [
        {
          "output_type": "error",
          "ename": "SyntaxError",
          "evalue": "ignored",
          "traceback": [
            "\u001b[0;36m  File \u001b[0;32m\"<ipython-input-67-396cff27c41a>\"\u001b[0;36m, line \u001b[0;32m1\u001b[0m\n\u001b[0;31m    define project_to_distance(point_x point_y distance):\u001b[0m\n\u001b[0m                             ^\u001b[0m\n\u001b[0;31mSyntaxError\u001b[0m\u001b[0;31m:\u001b[0m invalid syntax\n"
          ]
        }
      ]
    },
    {
      "cell_type": "code",
      "source": [
        "cube_root(1)"
      ],
      "metadata": {
        "colab": {
          "base_uri": "https://localhost:8080/"
        },
        "id": "BUsiCtZQYvIh",
        "outputId": "7f493fd8-4bb5-42c3-93e0-80fd4603d4b0"
      },
      "execution_count": null,
      "outputs": [
        {
          "output_type": "execute_result",
          "data": {
            "text/plain": [
              "1.0"
            ]
          },
          "metadata": {},
          "execution_count": 65
        }
      ]
    },
    {
      "cell_type": "code",
      "source": [
        ""
      ],
      "metadata": {
        "id": "HPG3UOVWYxtF"
      },
      "execution_count": null,
      "outputs": []
    }
  ]
}